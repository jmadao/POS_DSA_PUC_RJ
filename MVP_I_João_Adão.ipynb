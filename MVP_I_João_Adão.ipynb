{
  "nbformat": 4,
  "nbformat_minor": 0,
  "metadata": {
    "colab": {
      "private_outputs": true,
      "provenance": [],
      "authorship_tag": "ABX9TyOiTTQS33N3bxWnIFwnvrHG",
      "include_colab_link": true
    },
    "kernelspec": {
      "name": "python3",
      "display_name": "Python 3"
    },
    "language_info": {
      "name": "python"
    }
  },
  "cells": [
    {
      "cell_type": "markdown",
      "metadata": {
        "id": "view-in-github",
        "colab_type": "text"
      },
      "source": [
        "<a href=\"https://colab.research.google.com/github/jmadao/POS_DSA_PUC_RJ/blob/main/MVP_I_Jo%C3%A3o_Ad%C3%A3o.ipynb\" target=\"_parent\"><img src=\"https://colab.research.google.com/assets/colab-badge.svg\" alt=\"Open In Colab\"/></a>"
      ]
    },
    {
      "cell_type": "markdown",
      "source": [
        "# SPRINT I - MVP - João Marco Adão Ananias"
      ],
      "metadata": {
        "id": "oRlO8nn_sTjZ"
      }
    },
    {
      "cell_type": "markdown",
      "source": [
        "## Definição do Problema"
      ],
      "metadata": {
        "id": "lOhggXp5sjUk"
      }
    },
    {
      "cell_type": "markdown",
      "source": [
        "Neste final de ano, uma notícia chocou muitas pessoas: \"Black Friday tem desempenho fraco em 2023, apontam dados de vendas\".\n",
        "\n",
        "Aproveitando o tema, foi encontrado um dataset contendo vendas durante a Black Friday de uma empresa \"ABC\" em um determinado ano.\n",
        "\n",
        "Link do DataSet: https://www.kaggle.com/datasets/pranavuikey/black-friday-sales-eda/\n",
        "\n",
        "Nosso objetivo neste projeto, será entender melhor o comportamento do consumidor e tentar entender quais variáveis possuem uma maior correlação / relevância no valor gasto.\n",
        "\n",
        "Esta análise, pode ajudar a empresa \"ABC\" a direcionar melhor suas estratégias durante o período promocional ou até em outros eventos.\n",
        "\n",
        "Abaixo seguem algumas informações sobre os atributos do DataSet:\n",
        "\n",
        "*   **User_ID** -> ID único do Cliente\n",
        "*   **Product_ID** -> ID do Produto\n",
        "*   **Gender** -> Gênero\n",
        "*   **Age** -> Idade\n",
        "*   **Occupation** -> Profissão (Máscara)\n",
        "*   **City_Category** -> Categoria da Cidade\n",
        "*   **Stay_In_Current_City_Years** -> Anos em que o clinte está na cidade\n",
        "*   **Marital_Status** -> Estado Civil\n",
        "*   **Product_Category_1** -> Categoria do Produto 1 (Máscara)\n",
        "*   **Product_Category_2** -> Categoria do Produto 2 (Máscara)\n",
        "*   **Product_Category_3** -> Categoria do Produto 3 (Máscara)\n",
        "*   **Purchase** -> Valor de Compra (Target)\n",
        "\n",
        "\n",
        "Podemos ver que, em nosso dataset, temos a coluna \"Purchase\", que seria nosso Target. Dessa forma, podemos afirmar que temos em nossas mãos um problema de aprendizado supervisionado.\n",
        "\n",
        "Antes de entrar em nossa análise, há algumas hipóteses que será interessante validarmos ou não. São elas:\n",
        "\n",
        "1) Clientes com mais idade, gastam mais?\n",
        "\n",
        "2) Clientes de Cidades de Categoria \"A\", gastam mais?\n",
        "\n",
        "3) Há diferença no comportamento de compra por conta do gênero?\n",
        "\n",
        "4) Há diferença no comportamento de compra por conta do Estado Civil?\n",
        "\n",
        "Essas são apenas algumas perguntas que serão interessantes analisarmos a partir de nossa EDA.\n",
        "\n",
        "--------------------------------------------------------------------------\n",
        "\n",
        "PONTO DE ATENÇÃO PARA O DATASET: UM CLIENTE PODE COMPRAR MAIS DE UM PRODUTO, OU SEJA, UM CLIENTE PODE ESTAR PRESENTE EM MAIS DE UMA LINHA\n",
        "\n"
      ],
      "metadata": {
        "id": "VJ-I0-oYtWve"
      }
    },
    {
      "cell_type": "markdown",
      "source": [
        "## Importando Bibliotecas"
      ],
      "metadata": {
        "id": "9EjFbigcLfYF"
      }
    },
    {
      "cell_type": "code",
      "execution_count": null,
      "metadata": {
        "id": "G0Qnn3cCeyCE"
      },
      "outputs": [],
      "source": [
        "# Configuração para não exibir warnings\n",
        "import warnings\n",
        "warnings.filterwarnings(\"ignore\")\n",
        "\n",
        "# Importação de Bibliotecas\n",
        "\n",
        "import pandas as pd\n",
        "import numpy as np\n",
        "import matplotlib.pyplot as plt\n",
        "import seaborn as sns\n",
        "import missingno as ms # para tratamento de missings\n",
        "from matplotlib.ticker import FuncFormatter\n",
        "\n",
        "from sklearn.model_selection import train_test_split\n",
        "from sklearn.preprocessing import MinMaxScaler # para normalização\n",
        "from sklearn.preprocessing import StandardScaler # para padronização\n",
        "from sklearn.preprocessing import OneHotEncoder\n",
        "from sklearn.preprocessing import OrdinalEncoder"
      ]
    },
    {
      "cell_type": "markdown",
      "source": [
        "## Carga do DataSet"
      ],
      "metadata": {
        "id": "TMeJg1GVM5QS"
      }
    },
    {
      "cell_type": "markdown",
      "source": [
        "A base foi salva em meu repositório do GitHub"
      ],
      "metadata": {
        "id": "97N2WqREM-VY"
      }
    },
    {
      "cell_type": "code",
      "source": [
        "# Informa a URL de importação do dataset\n",
        "url = \"https://raw.githubusercontent.com/jmadao/POS_DSA_PUC_RJ/main/BF_Sales.csv\"\n",
        "\n",
        "# Lê o arquivo\n",
        "df_bf = pd.read_csv(url, delimiter=',')"
      ],
      "metadata": {
        "id": "ifVMuzi5Lo4O"
      },
      "execution_count": null,
      "outputs": []
    },
    {
      "cell_type": "markdown",
      "source": [
        "## Análise Inicial e Tratamento de Dados"
      ],
      "metadata": {
        "id": "o7YVuAztNpRj"
      }
    },
    {
      "cell_type": "markdown",
      "source": [
        "Nesta etapa, iremos fazer uma análise sobre a estrutura de nosso dataset e fazer alguns tratamentos simples, como alteração de nome das colunas, tratamento de valores vazios, etc."
      ],
      "metadata": {
        "id": "GeDB69OwN3xF"
      }
    },
    {
      "cell_type": "code",
      "source": [
        "# Exibindo as primeiras linhas do DataFrame\n",
        "\n",
        "df_bf.head()"
      ],
      "metadata": {
        "id": "_2kKAV4BNZ7n"
      },
      "execution_count": null,
      "outputs": []
    },
    {
      "cell_type": "code",
      "source": [
        "# Exibindo as últimas linhas do DataFrame\n",
        "\n",
        "df_bf.tail()"
      ],
      "metadata": {
        "id": "Vs8AzG3ENt3F"
      },
      "execution_count": null,
      "outputs": []
    },
    {
      "cell_type": "markdown",
      "source": [
        "---\n",
        "Observando nosso DataFrame, podemos ver que a coluna Purchase veio sem o separador do decimal, sendo necessário realizarmos uma divisão por 100."
      ],
      "metadata": {
        "id": "d1U2k9JzyVRU"
      }
    },
    {
      "cell_type": "code",
      "source": [
        "df_bf['Purchase'] = df_bf['Purchase'] / 100"
      ],
      "metadata": {
        "id": "5JFaoSkIyf3c"
      },
      "execution_count": null,
      "outputs": []
    },
    {
      "cell_type": "code",
      "source": [
        "df_bf"
      ],
      "metadata": {
        "id": "AWUFsYVLypYt"
      },
      "execution_count": null,
      "outputs": []
    },
    {
      "cell_type": "code",
      "source": [
        "# Alterando Nome de Colunas de nosso DataFrame\n",
        "\n",
        "nome_colunas = ['ID_Cliente', 'ID_Produto', 'Gênero', 'Faixa Etária', 'Ocupação', 'Categoria da Cidade', 'Anos na Cidade', 'Estado Civil', 'Categoria do Produto 1', 'Categoria do Produto 2', 'Categoria do Produto 3', 'Valor Compra']\n",
        "\n",
        "df_bf.columns = nome_colunas"
      ],
      "metadata": {
        "id": "U2csW9O4OQ5Q"
      },
      "execution_count": null,
      "outputs": []
    },
    {
      "cell_type": "code",
      "source": [
        "# Verificando as Dimensões do DataFrame\n",
        "\n",
        "df_bf.shape"
      ],
      "metadata": {
        "id": "WlaTCAoTPjBx"
      },
      "execution_count": null,
      "outputs": []
    },
    {
      "cell_type": "code",
      "source": [
        "# Verificando as informações do DataFrame\n",
        "\n",
        "df_bf.info()"
      ],
      "metadata": {
        "id": "067ypazDPxSk"
      },
      "execution_count": null,
      "outputs": []
    },
    {
      "cell_type": "code",
      "source": [
        "# Fazendo resumo estatístico do DataFrame\n",
        "\n",
        "df_bf.describe()"
      ],
      "metadata": {
        "id": "eIi_X4xpP47g"
      },
      "execution_count": null,
      "outputs": []
    },
    {
      "cell_type": "markdown",
      "source": [
        "Neste caso, esse resumo estatístico não se aplica muito bem ao nosso dataframe, uma vez que muitas colunas são categóricas, exceto pela coluna \"Valor Compra\", onde já conseguimos ter uma dimensão da média do gasto dos clientes analisados.\n",
        "\n",
        "---\n",
        "\n",
        "Vamos então analisar alguma das variáveis categóricas sobre os clientes:"
      ],
      "metadata": {
        "id": "6gaC6NUTQkCB"
      }
    },
    {
      "cell_type": "code",
      "source": [
        "# Verificando Distribuição da Base por Gênero\n",
        "\n",
        "df_bf.groupby(['Gênero'])['ID_Cliente'].nunique()"
      ],
      "metadata": {
        "id": "GINvntBbQjj-"
      },
      "execution_count": null,
      "outputs": []
    },
    {
      "cell_type": "markdown",
      "source": [
        "Podemos notar que temos um desbalanceamento em nossa base, onde maior parte de nossos clientes são do sexo M (Masculino)\n",
        "\n",
        "---"
      ],
      "metadata": {
        "id": "RFdQP0ytRSu5"
      }
    },
    {
      "cell_type": "code",
      "source": [
        "# Verificando Distribuição da Base por Faixa Etária\n",
        "\n",
        "df_bf.groupby(['Faixa Etária'])['ID_Cliente'].nunique()"
      ],
      "metadata": {
        "id": "xqIuv_NGQUeN"
      },
      "execution_count": null,
      "outputs": []
    },
    {
      "cell_type": "markdown",
      "source": [
        "Em relação a Faixa Etária, nossa base tem predominantemente clientes entre 26-35 anos.\n",
        "\n",
        "---"
      ],
      "metadata": {
        "id": "Ujc5leCiRicy"
      }
    },
    {
      "cell_type": "code",
      "source": [
        "# Verificando Distribuição da Base por Faixa Etária\n",
        "\n",
        "df_bf.groupby(['Anos na Cidade'])['ID_Cliente'].nunique()"
      ],
      "metadata": {
        "id": "Rkc1ucjfRgGs"
      },
      "execution_count": null,
      "outputs": []
    },
    {
      "cell_type": "markdown",
      "source": [
        "A maioria de nossos clientes estão entre 1 e 2 anos na cidade.\n",
        "\n",
        "---"
      ],
      "metadata": {
        "id": "j1Nd4vBnR0th"
      }
    },
    {
      "cell_type": "code",
      "source": [
        "# Verificando Distribuição da Base por Faixa Etária\n",
        "\n",
        "df_bf.groupby(['Categoria da Cidade'])['ID_Cliente'].nunique()"
      ],
      "metadata": {
        "id": "AaZEYD7ORzF0"
      },
      "execution_count": null,
      "outputs": []
    },
    {
      "cell_type": "markdown",
      "source": [
        "A maioria dos clientes residem em cidade de categoria \"C\"\n",
        "\n",
        "---"
      ],
      "metadata": {
        "id": "p7OlypVMSAu0"
      }
    },
    {
      "cell_type": "markdown",
      "source": [
        "Agora vamos analisar se em nosso DataFrame temos valores vazios, para então, tratá-los.\n"
      ],
      "metadata": {
        "id": "dPbD_-ymP7Mt"
      }
    },
    {
      "cell_type": "code",
      "source": [
        "# verificando nulls no dataset\n",
        "df_bf.isnull().sum()"
      ],
      "metadata": {
        "id": "hdcreMOthAWE"
      },
      "execution_count": null,
      "outputs": []
    },
    {
      "cell_type": "code",
      "source": [
        "# salvando um novo dataset para tratamento de missings\n",
        "\n",
        "# recuperando os nomes das colunas\n",
        "col = list(df_bf.columns)\n",
        "\n",
        "# o novo dataset irá conter todas as colunas do dataset original\n",
        "df_bf_sm = df_bf[col[:]]\n",
        "\n",
        "# exibindo visualização matricial da nulidade do dataset\n",
        "ms.matrix(df_bf_sm)"
      ],
      "metadata": {
        "id": "MXP788ZghOYZ"
      },
      "execution_count": null,
      "outputs": []
    },
    {
      "cell_type": "markdown",
      "source": [
        "Podemos ver que temos diversas linhas das colunas \"Categoria do Produto 2\" e \"Categoria do Produto 3\" vazias. Algumas possíveis transformações que podemos fazer com estas colunas:\n",
        "\n",
        "1) Remover as colunas e não utilizá-las adiante;\n",
        "\n",
        "2) Remover as linhas em que os valores são nulos;\n",
        "\n",
        "3) Substituir os valores vazios por \"0\" (Como se fosse uma Categoria \"Não Informada\");\n",
        "\n",
        "4) Utilizar a Moda da Coluna no lugar dos vazios;\n",
        "\n",
        "\n",
        "Destes pontos, o que mais se enquadra neste nosso problema seria a opção 3, onde estaríamos criando uma \"nova categoria\" 0, que seria o \"Não informado\".\n",
        "\n",
        "Vejamos abaixo:"
      ],
      "metadata": {
        "id": "QdQZlGNHh-km"
      }
    },
    {
      "cell_type": "code",
      "source": [
        "# Substituindo Vazios por 0\n",
        "\n",
        "df_bf_sm['Categoria do Produto 2'].fillna(0, inplace=True)\n",
        "\n",
        "df_bf_sm['Categoria do Produto 3'].fillna(0, inplace=True)"
      ],
      "metadata": {
        "id": "TsQxoVgmhtcN"
      },
      "execution_count": null,
      "outputs": []
    },
    {
      "cell_type": "code",
      "source": [
        "ms.matrix(df_bf_sm)"
      ],
      "metadata": {
        "id": "v7EOwrZJi_MS"
      },
      "execution_count": null,
      "outputs": []
    },
    {
      "cell_type": "markdown",
      "source": [
        "Após o passo acima, podemos verificar que nosso DataFrame não possui mais dados nulos.\n",
        "\n",
        "---\n",
        "\n",
        "Antes de partirmos pra nossa EDA e construir nossas visualizações, vamos replicar algumas colunas que são categóricas para Numérico, o que vai nos ajudar a realizar possíveis análises de correlação mais adiante."
      ],
      "metadata": {
        "id": "y0OeHtuJjGnX"
      }
    },
    {
      "cell_type": "markdown",
      "source": [
        "Criando nova coluna de Faixa Etária:"
      ],
      "metadata": {
        "id": "gi8BHzE2ladN"
      }
    },
    {
      "cell_type": "code",
      "source": [
        "# Função para transformar faixas etárias em números\n",
        "def faixa_etaria_para_numero(faixa_etaria):\n",
        "    # Verificar se contém \"-\" ou \"+\", extrair o primeiro número\n",
        "    if '-' in faixa_etaria:\n",
        "        return int(faixa_etaria.split('-')[0])\n",
        "    elif '+' in faixa_etaria:\n",
        "        return int(faixa_etaria.split('+')[0])\n",
        "    else:\n",
        "        # Se não contiver nenhum separador, converter diretamente para número\n",
        "        return int(faixa_etaria)"
      ],
      "metadata": {
        "id": "ybgtptDQjELD"
      },
      "execution_count": null,
      "outputs": []
    },
    {
      "cell_type": "code",
      "source": [
        "# Aplicar a função à coluna 'Faixa Etária'\n",
        "df_bf_sm['Faixa Etária - Numerico'] = df_bf_sm['Faixa Etária'].apply(faixa_etaria_para_numero)"
      ],
      "metadata": {
        "id": "tka98MtAlGx5"
      },
      "execution_count": null,
      "outputs": []
    },
    {
      "cell_type": "markdown",
      "source": [
        "---\n",
        "\n",
        "Criando nova coluna de Categoria da Cidade:"
      ],
      "metadata": {
        "id": "9nkFVLQilfP_"
      }
    },
    {
      "cell_type": "code",
      "source": [
        "# Mapear as categorias de cidades para números\n",
        "mapeamento_cidades = {'A': 3, 'B': 2, 'C': 1}\n",
        "\n",
        "# Aplicar o mapeamento à coluna 'Cidade'\n",
        "df_bf_sm['Categoria da Cidade - Numerico'] = df_bf_sm['Categoria da Cidade'].map(mapeamento_cidades)"
      ],
      "metadata": {
        "id": "0ll7Ubxzlh9d"
      },
      "execution_count": null,
      "outputs": []
    },
    {
      "cell_type": "markdown",
      "source": [
        "---\n",
        "\n",
        "Criando nova coluna de Anos na Cidade:"
      ],
      "metadata": {
        "id": "bVWwN0bjmHtZ"
      }
    },
    {
      "cell_type": "code",
      "source": [
        "df_bf_sm['Anos na Cidade - Numerico'] = df_bf_sm['Anos na Cidade'].str.replace('+', '').astype(int)"
      ],
      "metadata": {
        "id": "qceI7NSFlwfw"
      },
      "execution_count": null,
      "outputs": []
    },
    {
      "cell_type": "markdown",
      "source": [
        "---\n",
        "\n",
        "Após criar as novas colunas, vamos analisar rapidamente como ficou nosso DataFrame, para em seguida iniciar nossa EDA"
      ],
      "metadata": {
        "id": "oK2rBLhEma08"
      }
    },
    {
      "cell_type": "code",
      "source": [
        "df_bf_sm.describe()"
      ],
      "metadata": {
        "id": "O85dTVhemgPP"
      },
      "execution_count": null,
      "outputs": []
    },
    {
      "cell_type": "code",
      "source": [
        "df_bf_sm.head()"
      ],
      "metadata": {
        "id": "CXSmYHPQmiP8"
      },
      "execution_count": null,
      "outputs": []
    },
    {
      "cell_type": "markdown",
      "source": [
        "## Análise Exploratória de Dados e Construção de Visualizações"
      ],
      "metadata": {
        "id": "8nQgBV-Wmrfo"
      }
    },
    {
      "cell_type": "markdown",
      "source": [
        "Inicialmente, vamos explorar um pouco melhor nossa base de clientes. Como em nossa base original, o cliente se repete diversas vezes por conta do Produto, vamos criar um novo DataFrame para nos ajudar, retirando produto e categoria e realizando o agrupamento das demais variáveis."
      ],
      "metadata": {
        "id": "iVbBlPOFoJaQ"
      }
    },
    {
      "cell_type": "code",
      "source": [
        "# Criando DataFrame fazendo Agrupamento - Para analisar clientes\n",
        "\n",
        "df_bf_sm_agrupado = df_bf_sm.groupby(['ID_Cliente', 'Gênero', 'Faixa Etária', 'Ocupação', 'Categoria da Cidade', 'Anos na Cidade', 'Estado Civil', 'Faixa Etária - Numerico', 'Categoria da Cidade - Numerico', 'Anos na Cidade - Numerico']).agg({\n",
        "    'ID_Produto': 'nunique',\n",
        "    'Categoria do Produto 1': 'nunique',\n",
        "    'Valor Compra' : 'sum'\n",
        "}).reset_index()"
      ],
      "metadata": {
        "id": "uMXJ8HpGvfBC"
      },
      "execution_count": null,
      "outputs": []
    },
    {
      "cell_type": "code",
      "source": [
        "# Renomeando Colunas\n",
        "\n",
        "df_bf_sm_agrupado.columns = ['ID_Cliente', 'Gênero', 'Faixa Etária', 'Ocupação', 'Categoria da Cidade', 'Anos na Cidade', 'Estado Civil', 'Faixa Etária - Numerico', 'Categoria da Cidade - Numerico', 'Anos na Cidade - Numerico', 'Qtd Produtos Distintos', 'Qtd Categorias Distintas', 'Valor Gasto']"
      ],
      "metadata": {
        "id": "QM43Zx2kw9Rs"
      },
      "execution_count": null,
      "outputs": []
    },
    {
      "cell_type": "code",
      "source": [
        "# Apresentando Primeiras linhas do Df\n",
        "\n",
        "df_bf_sm_agrupado.head()"
      ],
      "metadata": {
        "id": "Djng1GMSw5TI"
      },
      "execution_count": null,
      "outputs": []
    },
    {
      "cell_type": "code",
      "source": [
        "# Apresentando resumo estatístico\n",
        "\n",
        "df_bf_sm_agrupado.describe()"
      ],
      "metadata": {
        "id": "PcsuAh2STiYl"
      },
      "execution_count": null,
      "outputs": []
    },
    {
      "cell_type": "markdown",
      "source": [
        "---\n",
        "\n",
        "A partir de agora, vamos iniciar a construção de alguns gráficos para nos ajudar com a análise e visualização dos dados."
      ],
      "metadata": {
        "id": "8QS4JOkrUIrD"
      }
    },
    {
      "cell_type": "code",
      "source": [
        "# Contando clientes por gênero\n",
        "cont_genero = df_bf_sm_agrupado['Gênero'].value_counts()\n",
        "\n",
        "# Criando layout para gráficos\n",
        "fig, (ax1, ax2) = plt.subplots(1, 2, figsize=(8, 4))\n",
        "\n",
        "# Plotar um gráfico de barras\n",
        "cont_genero.plot(kind='bar', color=['blue', 'pink'], ax=ax1, rot=0)\n",
        "ax1.set_xlabel('Gênero')\n",
        "ax1.set_ylabel('Quantidade de Clientes')\n",
        "ax1.set_title('Quantidade de Clientes por Gênero')\n",
        "\n",
        "# Plotar o gráfico de pizza\n",
        "df_bf_sm_agrupado['Gênero'].value_counts().plot(kind='pie', autopct='%1.1f%%', colors=['blue', 'pink'], ax=ax2)\n",
        "ax2.set_ylabel('')  # Remover rótulo do eixo y\n",
        "ax2.set_title('Proporção por Gênero')\n",
        "\n",
        "# Ajustar o layout\n",
        "plt.tight_layout()\n",
        "\n",
        "# Mostrar os gráficos\n",
        "plt.show()"
      ],
      "metadata": {
        "id": "2GL79XvWpagB"
      },
      "execution_count": null,
      "outputs": []
    },
    {
      "cell_type": "markdown",
      "source": [
        "O gráfico acima nos mostra que quase 3/4 dos clientes são homens e apenas 28,3% são mulheres, mostrando uma predominancia no consumo dos homens durante a Black Friday.\n",
        "\n",
        "---------------------------------------------------------------\n",
        "\n",
        "Abaixo vamos analisar utilizando outros dados categóricos"
      ],
      "metadata": {
        "id": "BPhVNabzpaM-"
      }
    },
    {
      "cell_type": "code",
      "source": [
        "# Criar uma grade de subplots\n",
        "fig, axs = plt.subplots(2, 2, figsize=(10, 8))\n",
        "\n",
        "ordem_faixa_etaria = sorted(df_bf_sm_agrupado['Faixa Etária'].unique(), reverse=False)\n",
        "ordem_categoria_cidade= sorted(df_bf_sm_agrupado['Categoria da Cidade'].unique(), reverse=False)\n",
        "ordem_Anos_cidade= sorted(df_bf_sm_agrupado['Anos na Cidade'].unique(), reverse=False)\n",
        "\n",
        "# Subplot 1: Contagem de Clientes por Faixa Etária\n",
        "sns.countplot(x='Faixa Etária', data=df_bf_sm_agrupado, ax=axs[0, 0], palette='viridis', order=ordem_faixa_etaria)\n",
        "axs[0, 0].set_title('Quantidade de Clientes por Faixa Etária')\n",
        "\n",
        "# Subplot 2: Contagem de Clientes por Estado Civil\n",
        "sns.countplot(x='Estado Civil', data=df_bf_sm_agrupado, ax=axs[0, 1], palette='viridis')\n",
        "axs[0, 1].set_title('Quantidade de Clientes por Estado Civil')\n",
        "\n",
        "# Subplot 3: Contagem de Clientes por Categoria da Cidade\n",
        "sns.countplot(x='Categoria da Cidade', data=df_bf_sm_agrupado, ax=axs[1, 0], palette='viridis', order=ordem_categoria_cidade)\n",
        "axs[1, 0].set_title('Quantidade de Clientes por Categoria da Cidade')\n",
        "\n",
        "# Subplot 4: Contagem de Clientes por Anos na Cidade\n",
        "sns.countplot(x='Anos na Cidade', data=df_bf_sm_agrupado, ax=axs[1, 1], palette='viridis', order=ordem_Anos_cidade)\n",
        "axs[1, 1].set_title('Quantidade de Clientes por Anos na Cidade')\n",
        "\n",
        "# Ajustar o layout\n",
        "plt.tight_layout()\n",
        "plt.show()"
      ],
      "metadata": {
        "id": "awDBdo056GbE"
      },
      "execution_count": null,
      "outputs": []
    },
    {
      "cell_type": "markdown",
      "source": [
        "Complementando com estes 4 gráficos, em que percebemos que a maioria dos clientes possuem entre 26-35 anos, são solteiros, vivem em cidade de Categoria C e estão há 1 ano na cidade, conseguimos traçar um perfil principal de nossos cliente:\n",
        "\n",
        "Homens, com idade entre 26-35 anos, Solteiros, que moram há 1 ano em Cidade de Categoria C.\n",
        "\n",
        "------------------------------------------------------------------------"
      ],
      "metadata": {
        "id": "ZUtz5FMO9DxP"
      }
    },
    {
      "cell_type": "markdown",
      "source": [
        "Após analisar o perfil de nossos clientes, vamos realizar a análise sob as mesmas pespectivas, porém sobre o valor gasto."
      ],
      "metadata": {
        "id": "vehe3RAoUmWh"
      }
    },
    {
      "cell_type": "code",
      "source": [
        "# Agrupar por gênero e calcular a soma do valor gasto\n",
        "df_agrupado = df_bf_sm_agrupado.groupby('Gênero')['Valor Gasto'].sum().reset_index()\n",
        "\n",
        "# Criar layout para gráficos\n",
        "fig, (ax1, ax2) = plt.subplots(1, 2, figsize=(8, 4))\n",
        "\n",
        "# Plotar um gráfico de barras\n",
        "df_agrupado.plot(kind='bar', x='Gênero', y='Valor Gasto', color=['pink', 'blue'], ax=ax1, rot=0)\n",
        "ax1.set_xlabel('Gênero')\n",
        "ax1.set_ylabel('Soma do Valor Gasto')\n",
        "ax1.set_title('Soma do Valor Gasto por Gênero')\n",
        "\n",
        "# Formatar o eixo y sem notação científica\n",
        "ax1.ticklabel_format(style='plain', axis='y')\n",
        "\n",
        "# Plotar o gráfico de pizza\n",
        "df_agrupado.set_index('Gênero')['Valor Gasto'].plot(kind='pie', autopct='%1.1f%%', colors=['pink', 'blue'], ax=ax2)\n",
        "ax2.set_ylabel('')  # Remover rótulo do eixo y\n",
        "ax2.set_title('Proporção por Gênero')\n",
        "\n",
        "# Ajustar o layout\n",
        "plt.tight_layout()\n",
        "\n",
        "# Mostrar os gráficos\n",
        "plt.show()"
      ],
      "metadata": {
        "id": "Fj0qUVl8Uveg"
      },
      "execution_count": null,
      "outputs": []
    },
    {
      "cell_type": "markdown",
      "source": [
        "Podemos notar que, os clientes do sexo Masculino se destacam ainda mais em relação ao valor gasto, mostrando que, os homens tem um Ticket Médio maior que as Mulheres."
      ],
      "metadata": {
        "id": "l7vZ9lXIX97s"
      }
    },
    {
      "cell_type": "code",
      "source": [
        "# Agrupar por faixa etária, estado civil, categoria da cidade e anos na cidade\n",
        "df_agrupado = df_bf_sm_agrupado.groupby(['Faixa Etária', 'Estado Civil', 'Categoria da Cidade', 'Anos na Cidade'])['Valor Gasto'].sum().reset_index()\n",
        "\n",
        "# Criar uma grade de subplots\n",
        "fig, axs = plt.subplots(2, 2, figsize=(10, 8))\n",
        "\n",
        "ordem_faixa_etaria = sorted(df_agrupado['Faixa Etária'].unique(), reverse=False)\n",
        "ordem_categoria_cidade = sorted(df_agrupado['Categoria da Cidade'].unique(), reverse=False)\n",
        "ordem_Anos_cidade = sorted(df_agrupado['Anos na Cidade'].unique(), reverse=False)\n",
        "\n",
        "# Subplot 1: Soma do Valor Gasto por Faixa Etária\n",
        "sns.barplot(x='Faixa Etária', y='Valor Gasto', data=df_agrupado, ax=axs[0, 0], palette='viridis', order=ordem_faixa_etaria)\n",
        "axs[0, 0].set_title('Soma do Valor Gasto por Faixa Etária')\n",
        "\n",
        "# Subplot 2: Soma do Valor Gasto por Estado Civil\n",
        "sns.barplot(x='Estado Civil', y='Valor Gasto', data=df_agrupado, ax=axs[0, 1], palette='viridis')\n",
        "axs[0, 1].set_title('Soma do Valor Gasto por Estado Civil')\n",
        "\n",
        "# Subplot 3: Soma do Valor Gasto por Categoria da Cidade\n",
        "sns.barplot(x='Categoria da Cidade', y='Valor Gasto', data=df_agrupado, ax=axs[1, 0], palette='viridis', order=ordem_categoria_cidade)\n",
        "axs[1, 0].set_title('Soma do Valor Gasto por Categoria da Cidade')\n",
        "\n",
        "# Subplot 4: Soma do Valor Gasto por Anos na Cidade\n",
        "sns.barplot(x='Anos na Cidade', y='Valor Gasto', data=df_agrupado, ax=axs[1, 1], palette='viridis', order=ordem_Anos_cidade)\n",
        "axs[1, 1].set_title('Soma do Valor Gasto por Anos na Cidade')\n",
        "\n",
        "# Ajustar o layout\n",
        "plt.tight_layout()\n",
        "plt.show()"
      ],
      "metadata": {
        "id": "EH2N4ua_cJFw"
      },
      "execution_count": null,
      "outputs": []
    },
    {
      "cell_type": "markdown",
      "source": [
        "Analisando o gráfico acima, podemos notar que o comportamento é bem parecido com o de quantidade de clientes, com exceção da \"Soma do Valor Gasto por Categoria da Cidade\", em que clientes que residem em Cidades de Categoria B, são os clientes que mais gastaram na Black Friday."
      ],
      "metadata": {
        "id": "qQXjVr6zcknJ"
      }
    },
    {
      "cell_type": "markdown",
      "source": [
        "---\n",
        "\n",
        "Agora vamos analisar a distribuição de nossos clientes em relação as variáveis \"Quantidade de Produtos\", \"Quantidade de Categorias\" e \"Valor Gasto\", para entender um pouco o perfil de consumo deles."
      ],
      "metadata": {
        "id": "uJMb1NZr9ugJ"
      }
    },
    {
      "cell_type": "code",
      "source": [
        "# Sepaparando Variáveis pela qual analisaremos o Histograma\n",
        "\n",
        "df_bf_sm_agrupado_hist = df_bf_sm_agrupado[['Valor Gasto', 'Qtd Produtos Distintos', 'Qtd Categorias Distintas']]"
      ],
      "metadata": {
        "id": "KDSrwkuWARf5"
      },
      "execution_count": null,
      "outputs": []
    },
    {
      "cell_type": "code",
      "source": [
        "# Histograma\n",
        "\n",
        "df_bf_sm_agrupado_hist.hist(figsize = (12,8))\n",
        "plt.show()"
      ],
      "metadata": {
        "id": "OVeDS_5T95Xd"
      },
      "execution_count": null,
      "outputs": []
    },
    {
      "cell_type": "markdown",
      "source": [
        "Analisando o Histograma acima, podemos notar que em relação a \"Valor Gasto\" e \"Qtd Produtos Distintos\" temos uma grande assimetria, onde a maior parte dos clientes estão concentrados a esquerda (Menos Valor Gasto e Menos problemas distintos), formando uma longa cauda a direita.\n",
        "\n",
        "Já em relação a \"Qtd Categorias Distintas\", temos uma distribuição que parece ser bimodal, onde tem 2 picos de clientes, entre aproximadamente 7 categorias e 11 categorias.\n",
        "\n",
        "---"
      ],
      "metadata": {
        "id": "-XFuakA2esaf"
      }
    },
    {
      "cell_type": "code",
      "source": [
        "# Criando pairplot\n",
        "\n",
        "sns.pairplot(df_bf_sm_agrupado_hist)"
      ],
      "metadata": {
        "id": "YBLTwLcwd1WC"
      },
      "execution_count": null,
      "outputs": []
    },
    {
      "cell_type": "markdown",
      "source": [
        "Analisando o pairplot, podemos ver que 2 variáveis são altamente correlacionadas: Qtd Produtos Distintos e Valor Gasto.\n",
        "\n",
        "Ou seja, quanto mais produtos o cliente compra, mais ele gasta.\n",
        "\n",
        "Isso mostra a importância do poder de venda das empresas.\n",
        "\n",
        "---\n",
        "\n",
        "Agora vamos criar gráficos de boxplot, para analisar os dados excluindo outliers"
      ],
      "metadata": {
        "id": "3IKUr5cEhKey"
      }
    },
    {
      "cell_type": "code",
      "source": [
        "# Criando gráficos bloxplots\n",
        "\n",
        "df_bf_sm_agrupado_hist.plot(kind = 'box', subplots = True, layout = (3,3), sharex = False, sharey = False, figsize = (15,10))\n",
        "\n",
        "plt.show()"
      ],
      "metadata": {
        "id": "olYUvBQKd1SK"
      },
      "execution_count": null,
      "outputs": []
    },
    {
      "cell_type": "markdown",
      "source": [
        "Podemos notar que as variáveis \"Valor Gasto\" e \"Qtd Produtos Distintos\" possuem diversos outliers, acima do intervarlo interquartil. Uma boa transformação para podermos criar nosso modelo de ML seria excluir esses clientes \"Outliers\"\n",
        "\n",
        "---"
      ],
      "metadata": {
        "id": "pFCy3P3pjYsN"
      }
    },
    {
      "cell_type": "markdown",
      "source": [
        "Agora vamos verificar a correlação entre os atributos numéricos do dataset"
      ],
      "metadata": {
        "id": "GnAF0mFrnNjo"
      }
    },
    {
      "cell_type": "code",
      "source": [
        "# Separando colunas que iremos correlacionar\n",
        "\n",
        "df_correlacao = df_bf_sm_agrupado[['Faixa Etária - Numerico', 'Categoria da Cidade - Numerico', 'Anos na Cidade - Numerico', 'Valor Gasto', 'Qtd Produtos Distintos', 'Qtd Categorias Distintas']]\n",
        "\n",
        "# Matriz de correlação com Seaborn\n",
        "sns.heatmap(df_correlacao.corr(), annot=True, cmap='RdBu');"
      ],
      "metadata": {
        "id": "fKPUZP5xmlhV"
      },
      "execution_count": null,
      "outputs": []
    },
    {
      "cell_type": "markdown",
      "source": [
        "Podemos notar que de fato há uma grande correlação entre o consumo de produtos distintos e categorias distintas com o Valor Gasto do Cliente.\n"
      ],
      "metadata": {
        "id": "KFNy0yFEkM66"
      }
    },
    {
      "cell_type": "markdown",
      "source": [
        "---\n",
        "\n",
        "Agora vamos fazer uma análise em relação aos produtos e categorias de produto, para entender quais são mais vendidos e geram maior faturamento para a empresa."
      ],
      "metadata": {
        "id": "OdHeusrXocus"
      }
    },
    {
      "cell_type": "code",
      "source": [
        "# Criando DataFrame fazendo Agrupamento - Para analisar produtos\n",
        "\n",
        "df_bf_sm_produto = df_bf_sm.groupby(['ID_Produto']).agg({\n",
        "    'ID_Cliente': 'nunique',\n",
        "    'Valor Compra' : 'sum'\n",
        "}).reset_index()"
      ],
      "metadata": {
        "id": "K8XPI0apm8XN"
      },
      "execution_count": null,
      "outputs": []
    },
    {
      "cell_type": "code",
      "source": [
        "# Renomeando Colunas\n",
        "\n",
        "df_bf_sm_produto.columns = ['ID_Produto','Qtd_Clientes','Valor_Gasto']"
      ],
      "metadata": {
        "id": "w9tur-llp3WW"
      },
      "execution_count": null,
      "outputs": []
    },
    {
      "cell_type": "code",
      "source": [
        "# Apresentando primeiras linhas do dataframe\n",
        "\n",
        "df_bf_sm_produto.head()"
      ],
      "metadata": {
        "id": "28iaU9oZpHQR"
      },
      "execution_count": null,
      "outputs": []
    },
    {
      "cell_type": "markdown",
      "source": [
        "Vamos criar gráficos agora para analisar os produtos que possuem mais consumidores e o produto que gera maior faturamento."
      ],
      "metadata": {
        "id": "LMvMm31lqECQ"
      }
    },
    {
      "cell_type": "code",
      "source": [
        "# Ordenar o DataFrame pelo Valor_Gasto em ordem decrescente\n",
        "df_ordenado_Valor_Gasto = df_bf_sm_produto.sort_values(by='Valor_Gasto', ascending=False)\n",
        "\n",
        "# Ordenar o DataFrame pelo Qtd_Clientes em ordem decrescente\n",
        "df_ordenado_Qtd_Clientes = df_bf_sm_produto.sort_values(by='Qtd_Clientes', ascending=False)\n",
        "\n",
        "# Selecionar os 10 melhores produtos por Valor Gasto e por Qtd Clientes\n",
        "df_top_10_Valor_Gasto = df_ordenado_Valor_Gasto.head(10)\n",
        "\n",
        "df_top_10_Qtd_Clientes = df_ordenado_Qtd_Clientes.head(10)\n",
        "\n",
        "# Criar gráficos lado a lado\n",
        "fig, axs = plt.subplots(1, 2, figsize=(12, 6))\n",
        "\n",
        "# Gráfico de barra horizontal para Qtd_Clientes\n",
        "axs[0].barh(df_top_10_Qtd_Clientes['ID_Produto'], df_top_10_Qtd_Clientes['Qtd_Clientes'], color='skyblue')\n",
        "axs[0].set_xlabel('Qtd_Clientes')\n",
        "axs[0].set_ylabel('ID_Produto')\n",
        "axs[0].set_title('Top 10 - Quantidade de Clientes por ID_Produto')\n",
        "\n",
        "# Gráfico de barra horizontal para Valor_Gasto\n",
        "axs[1].barh(df_top_10_Valor_Gasto['ID_Produto'], df_top_10_Valor_Gasto['Valor_Gasto'], color='orange')\n",
        "axs[1].set_xlabel('Valor_Gasto')\n",
        "axs[1].set_ylabel('ID_Produto')\n",
        "axs[1].set_title('Top 10 - Valor Gasto por ID_Produto')\n",
        "\n",
        "\n",
        "# Inverter a ordem dos eixos y para que o maior produto apareça primeiro\n",
        "axs[0].invert_yaxis()\n",
        "axs[1].invert_yaxis()\n",
        "\n",
        "# Ajustar o layout\n",
        "plt.tight_layout()\n",
        "plt.show()"
      ],
      "metadata": {
        "id": "lCK4j_L1pQpj"
      },
      "execution_count": null,
      "outputs": []
    },
    {
      "cell_type": "markdown",
      "source": [
        "Neste gráfico, conseguimos analisar facilmente quais são os produtos que possuem mais consumidores e quais geram maior faturamento para a companhia."
      ],
      "metadata": {
        "id": "0BgbYwrGrjmS"
      }
    },
    {
      "cell_type": "markdown",
      "source": [
        "##Pré-processamento de Dados"
      ],
      "metadata": {
        "id": "DtFLxd-mQzXt"
      }
    },
    {
      "cell_type": "markdown",
      "source": [
        "Neste tópico, vamos realizar algumas operações de limpeza, tratamento e preparação dos dados.\n",
        "\n",
        "É importante relembrar que já fizemos o tratamento de dados faltantes nos tópicos anteriores.\n"
      ],
      "metadata": {
        "id": "nFbDJcnvSYsG"
      }
    },
    {
      "cell_type": "markdown",
      "source": [
        "Aqui, vamos utilizar nosso dataframe agrupado por cliente, para iniciar o processo de Machine Learning envolvendo problema de regressão, onde a partir de características dos clientes, queremos prever qual será o valor gasto por eles."
      ],
      "metadata": {
        "id": "9EaCtRjKUp1-"
      }
    },
    {
      "cell_type": "code",
      "source": [
        "# apresentando DataFrame novamente\n",
        "\n",
        "df_bf_sm_agrupado.head(10)"
      ],
      "metadata": {
        "id": "XBMEcd8ZqNnF"
      },
      "execution_count": null,
      "outputs": []
    },
    {
      "cell_type": "markdown",
      "source": [
        "Vamos reduzir nosso dataframe, deixando apenas os atributos que iremos utilizar em nosso modelo"
      ],
      "metadata": {
        "id": "Dw_7i7LGVgSn"
      }
    },
    {
      "cell_type": "code",
      "source": [
        "df_bf_sm_agrupado = df_bf_sm_agrupado[['Gênero', 'Faixa Etária', 'Categoria da Cidade', 'Estado Civil', 'Valor Gasto']]"
      ],
      "metadata": {
        "id": "2KAB6UJwU_Q6"
      },
      "execution_count": null,
      "outputs": []
    },
    {
      "cell_type": "code",
      "source": [
        "df_bf_sm_agrupado.head(10)"
      ],
      "metadata": {
        "id": "7e-gIOCHVeND"
      },
      "execution_count": null,
      "outputs": []
    },
    {
      "cell_type": "markdown",
      "source": [
        "Primeiramente, vamos separar nossa base em x e y, onde x são nosssos atributos e y nosso target.\n",
        "\n",
        "Posteriormente, vamos separar nosso dataset em treino e teste, para evitar o data leakage."
      ],
      "metadata": {
        "id": "ySECWU8dW1vg"
      }
    },
    {
      "cell_type": "code",
      "source": [
        "# separando o array em componentes de input e output\n",
        "X = df_bf_sm_agrupado.values[:,0:4]\n",
        "y = df_bf_sm_agrupado.values[:,4]"
      ],
      "metadata": {
        "id": "DTGjqIAQVyID"
      },
      "execution_count": null,
      "outputs": []
    },
    {
      "cell_type": "code",
      "source": [
        "# separando o dataset em treino e teste\n",
        "X_treino, X_teste, Y_treino, Y_teste = train_test_split(X, y, random_state = 42)"
      ],
      "metadata": {
        "id": "9KXmMiSpYtZ7"
      },
      "execution_count": null,
      "outputs": []
    },
    {
      "cell_type": "code",
      "source": [
        "X_treino"
      ],
      "metadata": {
        "id": "HO-2rYuCcUBh"
      },
      "execution_count": null,
      "outputs": []
    },
    {
      "cell_type": "markdown",
      "source": [
        "\n",
        "Para nosso atributo Faixa Etária, vamos aplicar a transformação ordinal, já que seus valores possuem uma ordem implícita.\n",
        "\n",
        "Para os demais atributos, vamos aplicar o One-Hot enconding.\n"
      ],
      "metadata": {
        "id": "RAB_yfvVZFAP"
      }
    },
    {
      "cell_type": "code",
      "source": [
        "\n",
        "# Transformação ordinal para a coluna 'Faixa Etária'\n",
        "faixa_etaria_ordem = ['0-17', '18-25', '26-35', '36-45', '46-50', '51-55', '55+']\n",
        "ordinal_encoder = OrdinalEncoder(categories=[faixa_etaria_ordem], dtype=int)\n",
        "df_bf_sm_agrupado['Faixa Etária'] = ordinal_encoder.fit_transform(df_bf_sm_agrupado[['Faixa Etária']])\n",
        "\n",
        "# Codificação one-hot para as colunas 'Gênero', 'Categoria da Cidade'\n",
        "df = pd.get_dummies(df_bf_sm_agrupado, columns=['Gênero', 'Categoria da Cidade',], drop_first=True)"
      ],
      "metadata": {
        "id": "qu_lAxo4biR5"
      },
      "execution_count": null,
      "outputs": []
    },
    {
      "cell_type": "code",
      "source": [
        "df.head(10)"
      ],
      "metadata": {
        "id": "JYRMNYxKdJi5"
      },
      "execution_count": null,
      "outputs": []
    },
    {
      "cell_type": "markdown",
      "source": [
        "Acima mostramos como ficaria o Dataset após a aplicação da transformação ordinal e do One-Hot, para então podermos aplicar um modelo de regrssão em nosso dataset."
      ],
      "metadata": {
        "id": "Fzja2H0qgBsL"
      }
    },
    {
      "cell_type": "markdown",
      "source": [
        "## Conclusão"
      ],
      "metadata": {
        "id": "NGZMiodVIOAc"
      }
    },
    {
      "cell_type": "markdown",
      "source": [
        "Analisando nossa base de dados, conseguimos conhecer um pouco sobre os consumidores da empresa \"ABC\".\n",
        "\n",
        "Com a construção dos gráficos e análises, conseguimos identificar o perfil da maioria de nossos clientes: **Homens, com idade entre 26-35 anos, Solteiros, que moram há 1 ano em Cidade de Categoria C**.\n",
        "\n",
        "Essa base nos permite realizar infinita análises e abre um leque muito grande para construção de modelos de Machine Learning, seja Supervisionado (Como modelo de Regressão) e Não Supervisionado (Como modelo de clusterização ou assossiação).\n",
        "\n",
        "A maior dificuldade na elaboração do MVP foi realizar as construções das visualizações em python, uma vez que venho trabalhando há alguns anos com ferramentas de visualização de dados como Power BI e Qlik.\n",
        "\n",
        "Dito isto, essa é minha última sprint da Pós-Graduação e me sinto muito grato por todo conhecimento e trocas realizadas ao longo de todo curso.\n",
        "\n",
        "Muito obrigado!"
      ],
      "metadata": {
        "id": "UlSuFMvIIgfj"
      }
    },
    {
      "cell_type": "code",
      "source": [],
      "metadata": {
        "id": "1hSZRfMdIRse"
      },
      "execution_count": null,
      "outputs": []
    }
  ]
}